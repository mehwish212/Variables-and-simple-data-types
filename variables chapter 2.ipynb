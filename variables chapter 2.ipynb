{
 "cells": [
  {
   "cell_type": "code",
   "execution_count": 2,
   "metadata": {},
   "outputs": [
    {
     "name": "stdout",
     "output_type": "stream",
     "text": [
      "I m learning python.\n",
      "i m trying to solve the exercises.\n"
     ]
    }
   ],
   "source": [
    "#try It yourself 2-1. Simple Message:\n",
    "\n",
    "message = 'I m learning python.'\n",
    "print(message)\n",
    "\n",
    "#try It yourself 2-2. Simple Messages: \n",
    "\n",
    "message = 'i m trying to solve the exercises.'\n",
    "print(message)"
   ]
  },
  {
   "cell_type": "code",
   "execution_count": 6,
   "metadata": {},
   "outputs": [
    {
     "name": "stdout",
     "output_type": "stream",
     "text": [
      "Hey,  Abdullah  would you like to learn python today?\n"
     ]
    }
   ],
   "source": [
    "#try It yourself 2-3. Personal Message:\n",
    "\n",
    "person = ' abdullah '\n",
    "print('Hey, '+person.title()+' would you like to learn python today?')"
   ]
  },
  {
   "cell_type": "code",
   "execution_count": 7,
   "metadata": {},
   "outputs": [
    {
     "name": "stdout",
     "output_type": "stream",
     "text": [
      "Hey,  Abdullah  would you like to learn python today?\n",
      "Hey,  abdullah  would you like to learn python today?\n",
      "Hey,  ABDULLAH  would you like to learn python today?\n"
     ]
    }
   ],
   "source": [
    "#try It yourself 2-4. Name Cases:\n",
    "\n",
    "person = ' abdullah '\n",
    "print('Hey, '+person.title()+' would you like to learn python today?')\n",
    "\n",
    "print('Hey, '+person.lower()+' would you like to learn python today?')\n",
    "\n",
    "print('Hey, '+person.upper()+' would you like to learn python today?')"
   ]
  },
  {
   "cell_type": "code",
   "execution_count": 9,
   "metadata": {},
   "outputs": [
    {
     "name": "stdout",
     "output_type": "stream",
     "text": [
      "Albert Einstein once said, “A person who never made a mistake never tried anything new.”\n"
     ]
    }
   ],
   "source": [
    "#try It yourself 2-5. Famous Quote:\n",
    "\n",
    "msg = 'Albert Einstein once said, “A person who never made a mistake never tried anything new.”'\n",
    "print(msg)"
   ]
  },
  {
   "cell_type": "code",
   "execution_count": 10,
   "metadata": {},
   "outputs": [
    {
     "name": "stdout",
     "output_type": "stream",
     "text": [
      "Albert Einstein once said, “A person who never made a mistake never tried anything new.”\n"
     ]
    }
   ],
   "source": [
    "#try It yourself 2-6. Famous Quote 2\n",
    "\n",
    "famous_person = 'Albert Einstein'\n",
    "msg = famous_person+' once said, “A person who never made a mistake never tried anything new.”'\n",
    "print(msg)\n"
   ]
  },
  {
   "cell_type": "code",
   "execution_count": 17,
   "metadata": {},
   "outputs": [
    {
     "name": "stdout",
     "output_type": "stream",
     "text": [
      "\n",
      "\t Albert Einstein\n",
      "Albert Einstein \n",
      "Albert Einstein\n"
     ]
    }
   ],
   "source": [
    "#try It yourself  2 - 7. Stripping Names:\n",
    "\n",
    "name = '\\n\\t Albert Einstein '\n",
    "\n",
    "print(name.rstrip())\n",
    "print(name.lstrip())\n",
    "print(name.strip())"
   ]
  },
  {
   "cell_type": "code",
   "execution_count": 1,
   "metadata": {},
   "outputs": [
    {
     "name": "stdout",
     "output_type": "stream",
     "text": [
      "8\n",
      "8\n",
      "8\n",
      "8.0\n"
     ]
    }
   ],
   "source": [
    "#try It yourself 2-8. Number Eight:\n",
    "\n",
    "add = 4 + 4\n",
    "print(add)\n",
    "\n",
    "sub = 12 - 4\n",
    "print(sub)\n",
    "\n",
    "mul = 2 * 4\n",
    "print(mul)\n",
    "\n",
    "div = 64 / 8\n",
    "print(div)\n",
    "\n",
    "\n",
    "\n"
   ]
  },
  {
   "cell_type": "code",
   "execution_count": 4,
   "metadata": {},
   "outputs": [
    {
     "name": "stdout",
     "output_type": "stream",
     "text": [
      "My favorite number is 4\n"
     ]
    }
   ],
   "source": [
    "#try It yourself 2-9. Favorite Number:\n",
    "\n",
    "favorite_number = 4\n",
    "msg = \"My favorite number is \"+str(favorite_number) \n",
    "print(msg)"
   ]
  },
  {
   "cell_type": "code",
   "execution_count": 5,
   "metadata": {},
   "outputs": [
    {
     "name": "stdout",
     "output_type": "stream",
     "text": [
      "The Zen of Python, by Tim Peters\n",
      "\n",
      "Beautiful is better than ugly.\n",
      "Explicit is better than implicit.\n",
      "Simple is better than complex.\n",
      "Complex is better than complicated.\n",
      "Flat is better than nested.\n",
      "Sparse is better than dense.\n",
      "Readability counts.\n",
      "Special cases aren't special enough to break the rules.\n",
      "Although practicality beats purity.\n",
      "Errors should never pass silently.\n",
      "Unless explicitly silenced.\n",
      "In the face of ambiguity, refuse the temptation to guess.\n",
      "There should be one-- and preferably only one --obvious way to do it.\n",
      "Although that way may not be obvious at first unless you're Dutch.\n",
      "Now is better than never.\n",
      "Although never is often better than *right* now.\n",
      "If the implementation is hard to explain, it's a bad idea.\n",
      "If the implementation is easy to explain, it may be a good idea.\n",
      "Namespaces are one honking great idea -- let's do more of those!\n"
     ]
    }
   ],
   "source": [
    "import this\n"
   ]
  },
  {
   "cell_type": "code",
   "execution_count": null,
   "metadata": {
    "collapsed": true
   },
   "outputs": [],
   "source": []
  }
 ],
 "metadata": {
  "kernelspec": {
   "display_name": "Python 3",
   "language": "python",
   "name": "python3"
  },
  "language_info": {
   "codemirror_mode": {
    "name": "ipython",
    "version": 3
   },
   "file_extension": ".py",
   "mimetype": "text/x-python",
   "name": "python",
   "nbconvert_exporter": "python",
   "pygments_lexer": "ipython3",
   "version": "3.6.1"
  }
 },
 "nbformat": 4,
 "nbformat_minor": 2
}
